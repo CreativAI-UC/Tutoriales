{
 "cells": [
  {
   "cell_type": "code",
   "execution_count": 1,
   "metadata": {},
   "outputs": [],
   "source": [
    "import json\n",
    "import numpy as np\n",
    "from sklearn.model_selection import train_test_split\n",
    "import tensorflow.keras as keras\n",
    "import matplotlib.pyplot as plt\n",
    "from tensorflow.compat.v1 import ConfigProto\n",
    "from tensorflow.compat.v1 import InteractiveSession\n",
    "config = ConfigProto()\n",
    "config.gpu_options.per_process_gpu_memory_fraction = 0.4\n",
    "session = InteractiveSession(config=config)\n"
   ]
  },
  {
   "cell_type": "code",
   "execution_count": 2,
   "metadata": {},
   "outputs": [],
   "source": [
    "# path to json file that stores MFCCs and genre labels for each processed segment\n",
    "DATA_PATH = \"data_10.json\"\n",
    "def plot_history(history):\n",
    "    \"\"\"Plots accuracy/loss for training/validation set as a function of the epochs\n",
    "        :param history: Training history of model\n",
    "        :return:\n",
    "    \"\"\"\n",
    "\n",
    "    fig, axs = plt.subplots(2)\n",
    "\n",
    "    # create accuracy sublpot\n",
    "    axs[0].plot(history.history[\"accuracy\"], label=\"train accuracy\")\n",
    "    axs[0].plot(history.history[\"val_accuracy\"], label=\"test accuracy\")\n",
    "    axs[0].set_ylabel(\"Accuracy\")\n",
    "    axs[0].legend(loc=\"lower right\")\n",
    "    axs[0].set_title(\"Accuracy\")\n",
    "\n",
    "    # create error sublpot\n",
    "    axs[1].plot(history.history[\"loss\"], label=\"train error\")\n",
    "    axs[1].plot(history.history[\"val_loss\"], label=\"test error\")\n",
    "    axs[1].set_ylabel(\"Error\")\n",
    "    axs[1].set_xlabel(\"Epoch\")\n",
    "    axs[1].legend(loc=\"upper right\")\n",
    "    axs[1].set_title(\"Error\")\n",
    "\n",
    "    plt.show()\n",
    "def load_data(data_path):\n",
    "    \"\"\"Loads training dataset from json file.\n",
    "        :param data_path (str): Path to json file containing data\n",
    "        :return X (ndarray): Inputs\n",
    "        :return y (ndarray): Targets\n",
    "    \"\"\"\n",
    "\n",
    "    with open(data_path, \"r\") as fp:\n",
    "        data = json.load(fp)\n",
    "\n",
    "    # convert lists to numpy arrays\n",
    "    X = np.array(data[\"mfcc\"])\n",
    "    y = np.array(data[\"labels\"])\n",
    "\n",
    "    print(\"Data succesfully loaded!\")\n",
    "\n",
    "    return  X, y\n",
    "\n",
    "# load data\n",
    "def prepare_datasets(test_size, validation_size):\n",
    "    \"\"\"Loads data and splits it into train, validation and test sets.\n",
    "    :param test_size (float): Value in [0, 1] indicating percentage of data set to allocate to test split\n",
    "    :param validation_size (float): Value in [0, 1] indicating percentage of train set to allocate to validation split\n",
    "    :return X_train (ndarray): Input training set\n",
    "    :return X_validation (ndarray): Input validation set\n",
    "    :return X_test (ndarray): Input test set\n",
    "    :return y_train (ndarray): Target training set\n",
    "    :return y_validation (ndarray): Target validation set\n",
    "    :return y_test (ndarray): Target test set\n",
    "    \"\"\"\n",
    "\n",
    "    # load data\n",
    "    X, y = load_data(DATA_PATH)\n",
    "\n",
    "    # create train, validation and test split\n",
    "    X_train, X_test, y_train, y_test = train_test_split(X, y, test_size=test_size)\n",
    "    X_train, X_validation, y_train, y_validation = train_test_split(X_train, y_train, test_size=validation_size)\n",
    "\n",
    "    # add an axis to input sets\n",
    "    X_train = X_train[..., np.newaxis]\n",
    "    X_validation = X_validation[..., np.newaxis]\n",
    "    X_test = X_test[..., np.newaxis]\n",
    "\n",
    "    return X_train, X_validation, X_test, y_train, y_validation, y_test\n",
    "\n",
    "def build_model(input_shape):\n",
    "    \"\"\"Generates CNN model\n",
    "    :param input_shape (tuple): Shape of input set\n",
    "    :return model: CNN model\n",
    "    \"\"\"\n",
    "\n",
    "    # build network topology\n",
    "    model = keras.Sequential()\n",
    "\n",
    "    # 1st conv layer\n",
    "    model.add(keras.layers.Conv2D(32, (3, 3), activation='relu', input_shape=input_shape))\n",
    "    model.add(keras.layers.MaxPooling2D((3, 3), strides=(2, 2), padding='same'))\n",
    "    model.add(keras.layers.BatchNormalization())\n",
    "\n",
    "    # 2nd conv layer\n",
    "    model.add(keras.layers.Conv2D(32, (3, 3), activation='relu'))\n",
    "    model.add(keras.layers.MaxPooling2D((3, 3), strides=(2, 2), padding='same'))\n",
    "    model.add(keras.layers.BatchNormalization())\n",
    "\n",
    "    # 3rd conv layer\n",
    "    model.add(keras.layers.Conv2D(32, (2, 2), activation='relu'))\n",
    "    model.add(keras.layers.MaxPooling2D((2, 2), strides=(2, 2), padding='same'))\n",
    "    model.add(keras.layers.BatchNormalization())\n",
    "\n",
    "    # flatten output and feed it into dense layer\n",
    "    model.add(keras.layers.Flatten())\n",
    "    model.add(keras.layers.Dense(64, activation='relu'))\n",
    "    model.add(keras.layers.Dropout(0.3))\n",
    "\n",
    "    # output layer\n",
    "    model.add(keras.layers.Dense(10, activation='softmax'))\n",
    "\n",
    "    return model"
   ]
  },
  {
   "cell_type": "code",
   "execution_count": 3,
   "metadata": {},
   "outputs": [
    {
     "name": "stdout",
     "output_type": "stream",
     "text": [
      "Data succesfully loaded!\n"
     ]
    }
   ],
   "source": [
    "# create train/test split\n",
    "X_train, X_validation, X_test, y_train, y_validation, y_test = prepare_datasets(0.25, 0.2)"
   ]
  },
  {
   "cell_type": "code",
   "execution_count": 4,
   "metadata": {},
   "outputs": [],
   "source": [
    "# build network topology\n",
    "input_shape = (X_train.shape[1], X_train.shape[2], 1)\n",
    "model = build_model(input_shape)"
   ]
  },
  {
   "cell_type": "code",
   "execution_count": 5,
   "metadata": {},
   "outputs": [
    {
     "name": "stdout",
     "output_type": "stream",
     "text": [
      "Model: \"sequential\"\n",
      "_________________________________________________________________\n",
      "Layer (type)                 Output Shape              Param #   \n",
      "=================================================================\n",
      "conv2d (Conv2D)              (None, 128, 11, 32)       320       \n",
      "_________________________________________________________________\n",
      "max_pooling2d (MaxPooling2D) (None, 64, 6, 32)         0         \n",
      "_________________________________________________________________\n",
      "batch_normalization (BatchNo (None, 64, 6, 32)         128       \n",
      "_________________________________________________________________\n",
      "conv2d_1 (Conv2D)            (None, 62, 4, 32)         9248      \n",
      "_________________________________________________________________\n",
      "max_pooling2d_1 (MaxPooling2 (None, 31, 2, 32)         0         \n",
      "_________________________________________________________________\n",
      "batch_normalization_1 (Batch (None, 31, 2, 32)         128       \n",
      "_________________________________________________________________\n",
      "conv2d_2 (Conv2D)            (None, 30, 1, 32)         4128      \n",
      "_________________________________________________________________\n",
      "max_pooling2d_2 (MaxPooling2 (None, 15, 1, 32)         0         \n",
      "_________________________________________________________________\n",
      "batch_normalization_2 (Batch (None, 15, 1, 32)         128       \n",
      "_________________________________________________________________\n",
      "flatten (Flatten)            (None, 480)               0         \n",
      "_________________________________________________________________\n",
      "dense (Dense)                (None, 64)                30784     \n",
      "_________________________________________________________________\n",
      "dropout (Dropout)            (None, 64)                0         \n",
      "_________________________________________________________________\n",
      "dense_1 (Dense)              (None, 10)                650       \n",
      "=================================================================\n",
      "Total params: 45,514\n",
      "Trainable params: 45,322\n",
      "Non-trainable params: 192\n",
      "_________________________________________________________________\n"
     ]
    }
   ],
   "source": [
    "# compile model\n",
    "optimiser = keras.optimizers.Adam(learning_rate=0.0001)\n",
    "model.compile(optimizer=optimiser,\n",
    "              loss='sparse_categorical_crossentropy',\n",
    "              metrics=['accuracy'])\n",
    "\n",
    "model.summary()\n",
    "model.save_weights('model.h5')"
   ]
  },
  {
   "cell_type": "code",
   "execution_count": 6,
   "metadata": {},
   "outputs": [
    {
     "name": "stdout",
     "output_type": "stream",
     "text": [
      "Epoch 1/30\n",
      "188/188 [==============================] - 2s 9ms/step - loss: 2.4389 - accuracy: 0.2203 - val_loss: 1.9182 - val_accuracy: 0.3173\n",
      "Epoch 2/30\n",
      "188/188 [==============================] - 1s 7ms/step - loss: 1.9289 - accuracy: 0.3302 - val_loss: 1.6375 - val_accuracy: 0.4160\n",
      "Epoch 3/30\n",
      "188/188 [==============================] - 1s 7ms/step - loss: 1.7113 - accuracy: 0.3949 - val_loss: 1.4697 - val_accuracy: 0.4840\n",
      "Epoch 4/30\n",
      "188/188 [==============================] - 1s 6ms/step - loss: 1.5698 - accuracy: 0.4376 - val_loss: 1.3708 - val_accuracy: 0.5180\n",
      "Epoch 5/30\n",
      "188/188 [==============================] - 2s 9ms/step - loss: 1.4883 - accuracy: 0.4609 - val_loss: 1.2910 - val_accuracy: 0.5393\n",
      "Epoch 6/30\n",
      "188/188 [==============================] - 1s 7ms/step - loss: 1.4020 - accuracy: 0.4971 - val_loss: 1.2505 - val_accuracy: 0.5540\n",
      "Epoch 7/30\n",
      "188/188 [==============================] - 1s 7ms/step - loss: 1.3410 - accuracy: 0.5151 - val_loss: 1.2129 - val_accuracy: 0.5740\n",
      "Epoch 8/30\n",
      "188/188 [==============================] - 2s 9ms/step - loss: 1.3049 - accuracy: 0.5276 - val_loss: 1.1805 - val_accuracy: 0.5847\n",
      "Epoch 9/30\n",
      "188/188 [==============================] - 1s 7ms/step - loss: 1.2377 - accuracy: 0.5514 - val_loss: 1.1403 - val_accuracy: 0.6020\n",
      "Epoch 10/30\n",
      "188/188 [==============================] - 1s 8ms/step - loss: 1.1953 - accuracy: 0.5668 - val_loss: 1.0965 - val_accuracy: 0.6133\n",
      "Epoch 11/30\n",
      "188/188 [==============================] - 1s 7ms/step - loss: 1.1572 - accuracy: 0.5833 - val_loss: 1.0804 - val_accuracy: 0.6133\n",
      "Epoch 12/30\n",
      "188/188 [==============================] - 1s 7ms/step - loss: 1.1287 - accuracy: 0.5933 - val_loss: 1.0523 - val_accuracy: 0.6307\n",
      "Epoch 13/30\n",
      "188/188 [==============================] - 1s 6ms/step - loss: 1.0904 - accuracy: 0.6128 - val_loss: 1.0352 - val_accuracy: 0.6347\n",
      "Epoch 14/30\n",
      "188/188 [==============================] - 1s 6ms/step - loss: 1.0756 - accuracy: 0.6171 - val_loss: 1.0085 - val_accuracy: 0.6500\n",
      "Epoch 15/30\n",
      "188/188 [==============================] - 1s 5ms/step - loss: 1.0379 - accuracy: 0.6268 - val_loss: 0.9861 - val_accuracy: 0.6587\n",
      "Epoch 16/30\n",
      "188/188 [==============================] - 1s 5ms/step - loss: 0.9996 - accuracy: 0.6415 - val_loss: 0.9770 - val_accuracy: 0.6520\n",
      "Epoch 17/30\n",
      "188/188 [==============================] - 1s 8ms/step - loss: 1.0047 - accuracy: 0.6395 - val_loss: 0.9546 - val_accuracy: 0.6673\n",
      "Epoch 18/30\n",
      "188/188 [==============================] - 1s 8ms/step - loss: 0.9472 - accuracy: 0.6647 - val_loss: 0.9378 - val_accuracy: 0.6773\n",
      "Epoch 19/30\n",
      "188/188 [==============================] - 2s 8ms/step - loss: 0.9320 - accuracy: 0.6733 - val_loss: 0.9280 - val_accuracy: 0.6773\n",
      "Epoch 20/30\n",
      "188/188 [==============================] - 1s 8ms/step - loss: 0.9099 - accuracy: 0.6843 - val_loss: 0.9002 - val_accuracy: 0.6853\n",
      "Epoch 21/30\n",
      "188/188 [==============================] - 1s 6ms/step - loss: 0.8835 - accuracy: 0.6910 - val_loss: 0.9040 - val_accuracy: 0.6867\n",
      "Epoch 22/30\n",
      "188/188 [==============================] - 2s 9ms/step - loss: 0.8611 - accuracy: 0.7014 - val_loss: 0.8972 - val_accuracy: 0.6913\n",
      "Epoch 23/30\n",
      "188/188 [==============================] - 1s 7ms/step - loss: 0.8289 - accuracy: 0.7079 - val_loss: 0.8749 - val_accuracy: 0.6920\n",
      "Epoch 24/30\n",
      "188/188 [==============================] - 1s 6ms/step - loss: 0.8247 - accuracy: 0.7109 - val_loss: 0.8698 - val_accuracy: 0.7007\n",
      "Epoch 25/30\n",
      "188/188 [==============================] - 1s 7ms/step - loss: 0.8078 - accuracy: 0.7147 - val_loss: 0.8633 - val_accuracy: 0.7073\n",
      "Epoch 26/30\n",
      "188/188 [==============================] - 1s 7ms/step - loss: 0.7755 - accuracy: 0.7277 - val_loss: 0.8417 - val_accuracy: 0.7207\n",
      "Epoch 27/30\n",
      "188/188 [==============================] - 1s 7ms/step - loss: 0.7842 - accuracy: 0.7242 - val_loss: 0.8409 - val_accuracy: 0.7093\n",
      "Epoch 28/30\n",
      "188/188 [==============================] - 1s 6ms/step - loss: 0.7535 - accuracy: 0.7359 - val_loss: 0.8365 - val_accuracy: 0.7093\n",
      "Epoch 29/30\n",
      "188/188 [==============================] - 1s 7ms/step - loss: 0.7394 - accuracy: 0.7407 - val_loss: 0.8374 - val_accuracy: 0.7113\n",
      "Epoch 30/30\n",
      "188/188 [==============================] - 1s 6ms/step - loss: 0.7215 - accuracy: 0.7505 - val_loss: 0.8012 - val_accuracy: 0.7213\n"
     ]
    }
   ],
   "source": [
    "# train model\n",
    "history = model.fit(X_train, y_train, validation_data=(X_validation, y_validation), batch_size=32, epochs=30)\n"
   ]
  },
  {
   "cell_type": "code",
   "execution_count": 7,
   "metadata": {},
   "outputs": [
    {
     "data": {
      "image/png": "[encoded data removed]",
      "text/plain": [
       "<Figure size 432x288 with 2 Axes>"
      ]
     },
     "metadata": {
      "needs_background": "light"
     },
     "output_type": "display_data"
    }
   ],
   "source": [
    "plot_history(history)"
   ]
  },
  {
   "cell_type": "code",
   "execution_count": 8,
   "metadata": {
    "scrolled": true
   },
   "outputs": [
    {
     "name": "stdout",
     "output_type": "stream",
     "text": [
      "79/79 - 0s - loss: 0.8248 - accuracy: 0.7163\n",
      "\n",
      "Test accuracy: 0.7162865400314331\n"
     ]
    }
   ],
   "source": [
    "test_loss, test_acc = model.evaluate(X_test, y_test, verbose=2)\n",
    "print('\\nTest accuracy:', test_acc)"
   ]
  },
  {
   "cell_type": "code",
   "execution_count": 10,
   "metadata": {},
   "outputs": [],
   "source": [
    "predictions = model.predict(X_test)"
   ]
  },
  {
   "cell_type": "code",
   "execution_count": 13,
   "metadata": {},
   "outputs": [
    {
     "name": "stdout",
     "output_type": "stream",
     "text": [
      "9\n",
      "9\n"
     ]
    }
   ],
   "source": [
    "n = 9\n",
    "print(np.argmax(predictions[n]))\n",
    "print(y_test[n])"
   ]
  },
  {
   "cell_type": "code",
   "execution_count": null,
   "metadata": {},
   "outputs": [],
   "source": []
  }
 ],
 "metadata": {
  "kernelspec": {
   "display_name": "Python 3",
   "language": "python",
   "name": "python3"
  },
  "language_info": {
   "codemirror_mode": {
    "name": "ipython",
    "version": 3
   },
   "file_extension": ".py",
   "mimetype": "text/x-python",
   "name": "python",
   "nbconvert_exporter": "python",
   "pygments_lexer": "ipython3",
   "version": "3.6.9"
  }
 },
 "nbformat": 4,
 "nbformat_minor": 4
}
